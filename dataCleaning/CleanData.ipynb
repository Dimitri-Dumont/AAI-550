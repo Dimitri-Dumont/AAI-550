{
 "cells": [
  {
   "cell_type": "markdown",
   "metadata": {
    "nbgrader": {
     "grade": false,
     "grade_id": "jupyter",
     "locked": true,
     "schema_version": 3,
     "solution": false
    }
   },
   "source": [
    "## Data Cleaning\n",
    "\n",
    "This notebook will attempt to accomplish the following\n",
    "- Missing data\n",
    "- Scaling and Normalization (applies to continuous variables)\n",
    "- Removing Duplicates\n",
    "- Outlier detection\n",
    "- Encoding categorical variables\n",
    "- Feature engineering"
   ]
  },
  {
   "cell_type": "code",
   "execution_count": 4,
   "metadata": {
    "nbgrader": {
     "grade": true,
     "grade_id": "sum_of_squares_application",
     "locked": false,
     "points": 2,
     "schema_version": 3,
     "solution": true
    }
   },
   "outputs": [],
   "source": [
    "import pandas as pd \n",
    "import numpy as np  \n",
    "import matplotlib.pyplot as plt \n",
    "from scipy import stats\n",
    "import os\n",
    "from sklearn.preprocessing import StandardScaler, MinMaxScaler, RobustScaler, MaxAbsScaler\n",
    "\n"
   ]
  },
  {
   "cell_type": "markdown",
   "metadata": {
    "nbgrader": {
     "grade": false,
     "grade_id": "cell-938593c4a215c6cc",
     "locked": true,
     "points": 4,
     "schema_version": 3,
     "solution": false,
     "task": true
    }
   },
   "source": [
    "---\n",
    "## Removing instances with missing features\n",
    "\n",
    " This block of code performs data preprocessing on the 'adult' dataset.\n",
    " Removing cells with missing features, removing duplicate rows, detecting and removing outliers using the IQR method.\n",
    " Selecting numeric columns for scaling, applying standardization (Z-score normalization),\n",
    " and saving the processed data to new CSV files.\n"
   ]
  },
  {
   "cell_type": "code",
   "execution_count": 6,
   "metadata": {},
   "outputs": [],
   "source": [
    "# Load the dataset\n",
    "data = pd.read_csv(f'{os.getcwd()}/ProjectData/adult/adult.data')\n",
    "\n",
    "# Replace '?' with NaN and remove rows with NaN values\n",
    "cleaned_data = data.replace('?', pd.NA).dropna()\n",
    "\n",
    "# Remove duplicate rows\n",
    "cleaned_data.drop_duplicates(inplace=True)\n",
    "\n",
    "# Function to detect outliers using IQR\n",
    "def detect_outliers_iqr(df):\n",
    "    outliers_indices = []\n",
    "    for col in df.select_dtypes(include=[float, int]).columns:\n",
    "        Q1 = df[col].quantile(0.25)\n",
    "        Q3 = df[col].quantile(0.75)\n",
    "        IQR = Q3 - Q1\n",
    "        lower_bound = Q1 - 1.5 * IQR\n",
    "        upper_bound = Q3 + 1.5 * IQR\n",
    "        outliers_col = df[(df[col] < lower_bound) | (df[col] > upper_bound)].index\n",
    "        outliers_indices.extend(outliers_col)\n",
    "    return list(set(outliers_indices))\n",
    "\n",
    "outliers = detect_outliers_iqr(cleaned_data)\n",
    "\n",
    "# Remove outliers from the dataset\n",
    "cleaned_data_no_outliers = cleaned_data.drop(index=outliers)\n",
    "\n",
    "# Select only the numeric columns for scaling\n",
    "numeric_cols = cleaned_data_no_outliers.select_dtypes(include=['float64', 'int64']).columns\n",
    "numeric_data = cleaned_data_no_outliers[numeric_cols]\n",
    "\n",
    "# Standardization (Z-score normalization)\n",
    "scaler = StandardScaler()\n",
    "standardized_data = scaler.fit_transform(numeric_data)\n",
    "standardized_df = pd.DataFrame(standardized_data, columns=numeric_cols)\n",
    "\n",
    "standardized_df.to_csv(f'{os.getcwd()}/ProjectData/adult/standardized_adult.data', index=False)\n",
    "cleaned_data_no_outliers.to_csv(f'{os.getcwd()}/ProjectData/adult/clean_adult.data', index=False)\n"
   ]
  }
 ],
 "metadata": {
  "kernelspec": {
   "display_name": "Python 3 (ipykernel)",
   "language": "python",
   "name": "python3"
  },
  "language_info": {
   "codemirror_mode": {
    "name": "ipython",
    "version": 3
   },
   "file_extension": ".py",
   "mimetype": "text/x-python",
   "name": "python",
   "nbconvert_exporter": "python",
   "pygments_lexer": "ipython3",
   "version": "3.12.3"
  }
 },
 "nbformat": 4,
 "nbformat_minor": 0
}
